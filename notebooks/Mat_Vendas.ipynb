{
 "cells": [
  {
   "cell_type": "code",
   "execution_count": 5,
   "id": "88fe6351-7c40-4938-afe2-725f09802713",
   "metadata": {},
   "outputs": [],
   "source": [
    "#1 - importar as bibliotecas\n",
    "#pandas -> vou transformar a tabela\n",
    "import pandas as pd\n",
    "#matplotlib -> para plotar o gráfico\n",
    "import matplotlib.pyplot as plt"
   ]
  },
  {
   "cell_type": "code",
   "execution_count": 37,
   "id": "1426d337-10ed-46ab-a61e-fa452f8db061",
   "metadata": {},
   "outputs": [
    {
     "data": {
      "text/html": [
       "<div>\n",
       "<style scoped>\n",
       "    .dataframe tbody tr th:only-of-type {\n",
       "        vertical-align: middle;\n",
       "    }\n",
       "\n",
       "    .dataframe tbody tr th {\n",
       "        vertical-align: top;\n",
       "    }\n",
       "\n",
       "    .dataframe thead th {\n",
       "        text-align: right;\n",
       "    }\n",
       "</style>\n",
       "<table border=\"1\" class=\"dataframe\">\n",
       "  <thead>\n",
       "    <tr style=\"text-align: right;\">\n",
       "      <th></th>\n",
       "      <th>region</th>\n",
       "      <th>category</th>\n",
       "      <th>parameter</th>\n",
       "      <th>mode</th>\n",
       "      <th>powertrain</th>\n",
       "      <th>year</th>\n",
       "      <th>unit</th>\n",
       "      <th>value</th>\n",
       "    </tr>\n",
       "  </thead>\n",
       "  <tbody>\n",
       "    <tr>\n",
       "      <th>0</th>\n",
       "      <td>Australia</td>\n",
       "      <td>Historical</td>\n",
       "      <td>EV stock share</td>\n",
       "      <td>Cars</td>\n",
       "      <td>EV</td>\n",
       "      <td>2011</td>\n",
       "      <td>percent</td>\n",
       "      <td>0.00039</td>\n",
       "    </tr>\n",
       "    <tr>\n",
       "      <th>1</th>\n",
       "      <td>Australia</td>\n",
       "      <td>Historical</td>\n",
       "      <td>EV sales share</td>\n",
       "      <td>Cars</td>\n",
       "      <td>EV</td>\n",
       "      <td>2011</td>\n",
       "      <td>percent</td>\n",
       "      <td>0.00650</td>\n",
       "    </tr>\n",
       "    <tr>\n",
       "      <th>2</th>\n",
       "      <td>Australia</td>\n",
       "      <td>Historical</td>\n",
       "      <td>EV sales</td>\n",
       "      <td>Cars</td>\n",
       "      <td>BEV</td>\n",
       "      <td>2011</td>\n",
       "      <td>Vehicles</td>\n",
       "      <td>49.00000</td>\n",
       "    </tr>\n",
       "    <tr>\n",
       "      <th>3</th>\n",
       "      <td>Australia</td>\n",
       "      <td>Historical</td>\n",
       "      <td>EV stock</td>\n",
       "      <td>Cars</td>\n",
       "      <td>BEV</td>\n",
       "      <td>2011</td>\n",
       "      <td>Vehicles</td>\n",
       "      <td>49.00000</td>\n",
       "    </tr>\n",
       "    <tr>\n",
       "      <th>4</th>\n",
       "      <td>Australia</td>\n",
       "      <td>Historical</td>\n",
       "      <td>EV stock</td>\n",
       "      <td>Cars</td>\n",
       "      <td>BEV</td>\n",
       "      <td>2012</td>\n",
       "      <td>Vehicles</td>\n",
       "      <td>220.00000</td>\n",
       "    </tr>\n",
       "  </tbody>\n",
       "</table>\n",
       "</div>"
      ],
      "text/plain": [
       "      region    category       parameter  mode powertrain  year      unit  \\\n",
       "0  Australia  Historical  EV stock share  Cars         EV  2011   percent   \n",
       "1  Australia  Historical  EV sales share  Cars         EV  2011   percent   \n",
       "2  Australia  Historical        EV sales  Cars        BEV  2011  Vehicles   \n",
       "3  Australia  Historical        EV stock  Cars        BEV  2011  Vehicles   \n",
       "4  Australia  Historical        EV stock  Cars        BEV  2012  Vehicles   \n",
       "\n",
       "       value  \n",
       "0    0.00039  \n",
       "1    0.00650  \n",
       "2   49.00000  \n",
       "3   49.00000  \n",
       "4  220.00000  "
      ]
     },
     "execution_count": 37,
     "metadata": {},
     "output_type": "execute_result"
    }
   ],
   "source": [
    "#2 -  Ler o arquivo .csv\n",
    "df = pd.read_csv('IEA Global EV Data 2024.csv')\n",
    "df.head()"
   ]
  },
  {
   "cell_type": "code",
   "execution_count": 39,
   "id": "b498c934-d6e2-46e1-99bc-e6b25a359ace",
   "metadata": {},
   "outputs": [
    {
     "name": "stdout",
     "output_type": "stream",
     "text": [
      "<class 'pandas.core.frame.DataFrame'>\n",
      "RangeIndex: 12654 entries, 0 to 12653\n",
      "Data columns (total 8 columns):\n",
      " #   Column      Non-Null Count  Dtype  \n",
      "---  ------      --------------  -----  \n",
      " 0   region      12654 non-null  object \n",
      " 1   category    12654 non-null  object \n",
      " 2   parameter   12654 non-null  object \n",
      " 3   mode        12654 non-null  object \n",
      " 4   powertrain  12654 non-null  object \n",
      " 5   year        12654 non-null  int64  \n",
      " 6   unit        12654 non-null  object \n",
      " 7   value       12654 non-null  float64\n",
      "dtypes: float64(1), int64(1), object(6)\n",
      "memory usage: 791.0+ KB\n"
     ]
    }
   ],
   "source": [
    "#3 - apresentar informações básicas do dataset\n",
    "df.info()"
   ]
  },
  {
   "cell_type": "code",
   "execution_count": 41,
   "id": "bd2d51cf-7288-48eb-b002-1701b2c91124",
   "metadata": {},
   "outputs": [
    {
     "name": "stdout",
     "output_type": "stream",
     "text": [
      "12654\n"
     ]
    },
    {
     "data": {
      "text/plain": [
       "0"
      ]
     },
     "execution_count": 41,
     "metadata": {},
     "output_type": "execute_result"
    }
   ],
   "source": [
    "print(df.shape[0])#verificar quantidade de linhas totais na tabela\n",
    "df.isnull().sum()#verifica se tem linhas vazias e conta a quantidade\n",
    "df.duplicated().sum() # somas as linhas duplicadas da tabela"
   ]
  },
  {
   "cell_type": "code",
   "execution_count": 45,
   "id": "f6399bab-50f9-4878-b61d-cc5a61ef19fd",
   "metadata": {},
   "outputs": [
    {
     "data": {
      "text/plain": [
       "Index(['Região', 'Categoria', 'Parâmetro', 'Tipo', 'Trem de Força', 'Ano',\n",
       "       'Unidade', 'Valor'],\n",
       "      dtype='object')"
      ]
     },
     "execution_count": 45,
     "metadata": {},
     "output_type": "execute_result"
    }
   ],
   "source": [
    "df.columns\n",
    "df.columns = ['Região', 'Categoria', 'Parâmetro', 'Tipo','Trem de Força','Ano','Unidade','Valor']\n",
    "df.columns"
   ]
  },
  {
   "cell_type": "code",
   "execution_count": 47,
   "id": "8e7fbe1e-f536-4158-9351-df0d5b32e82d",
   "metadata": {},
   "outputs": [
    {
     "data": {
      "text/plain": [
       "array(['percent', 'Vehicles', 'charging points', 'GWh',\n",
       "       'Milion barrels per day', 'Oil displacement, million lge'],\n",
       "      dtype=object)"
      ]
     },
     "execution_count": 47,
     "metadata": {},
     "output_type": "execute_result"
    }
   ],
   "source": [
    "#visualizar os valores numa coluna\n",
    "df['Unidade'].unique()"
   ]
  },
  {
   "cell_type": "code",
   "execution_count": 59,
   "id": "9687ac79-4a4c-410a-929b-364d372f3853",
   "metadata": {},
   "outputs": [
    {
     "data": {
      "text/plain": [
       "array(['Vehicles'], dtype=object)"
      ]
     },
     "execution_count": 59,
     "metadata": {},
     "output_type": "execute_result"
    }
   ],
   "source": [
    "#TRADANDO OS DADOS PARA TRABALAHAR COM ELES\n",
    "\n",
    "#criando um dataframe para selecionar apenas veiculos\n",
    "df_vehicles = df.loc[df['Unidade'] == 'Vehicles']\n",
    "\n",
    "df_vehicles['Unidade'].unique()\n",
    "\n",
    "\n",
    "#excluindo valores\n",
    "\n",
    "# Textos específicos para remover\n",
    "#textos_especificos = ['percent', 'charging points']\n",
    "\n",
    "# padrão de expressão regular para os textos específicos\n",
    "#padrão = '|'.join(textos_especificos)\n",
    "#percent = 'percent'\n",
    "#charging_points = 'charging points'\n",
    "#df_filtrado = df[~df['Unidade'].str.contains(padrão, case=False, na=False)]\n",
    "#df_filtrado.head(80)\n",
    "#df = df_filtrado\n",
    "#df.info()\n",
    "#df_filtrado = df[~df['Unidade'].str.contains(charging_points, case=False, na=False)]\n",
    "#df_filtrado.head(80)"
   ]
  },
  {
   "cell_type": "code",
   "execution_count": 57,
   "id": "06597bcd-6def-4680-a034-b77c044b2d7f",
   "metadata": {},
   "outputs": [
    {
     "data": {
      "text/plain": [
       "Tipo\n",
       "Cars      2975\n",
       "Buses     1485\n",
       "Vans      1449\n",
       "Trucks     933\n",
       "Name: count, dtype: int64"
      ]
     },
     "execution_count": 57,
     "metadata": {},
     "output_type": "execute_result"
    }
   ],
   "source": [
    "df_vehicles['Tipo'].value_counts()"
   ]
  },
  {
   "cell_type": "code",
   "execution_count": 79,
   "id": "f7998caa-a639-4dce-8081-9c4620ff3697",
   "metadata": {},
   "outputs": [
    {
     "name": "stdout",
     "output_type": "stream",
     "text": [
      "6842\n",
      "4\n",
      "1\n"
     ]
    }
   ],
   "source": [
    "print(df_vehicles.shape[0])\n",
    "print(len(valores_etiquetas))\n",
    "print(len(etiquetas))"
   ]
  },
  {
   "cell_type": "code",
   "execution_count": 101,
   "id": "a1908a76-0f7a-4bb5-861d-365948cf3396",
   "metadata": {},
   "outputs": [
    {
     "name": "stdout",
     "output_type": "stream",
     "text": [
      "Tipo\n",
      "Cars      4706\n",
      "Buses     2696\n",
      "Vans      2568\n",
      "Trucks    1766\n",
      "EV         918\n",
      "Name: count, dtype: int64\n"
     ]
    }
   ],
   "source": [
    "#plotar um gráfico do tipo \"pie\" verificando a contagem de cada tipo de veículos (coluna Tipo).\n",
    "conta_tipo = df.groupby('Tipo')['Valor'].sum()\n",
    "conta_tipo = df['Tipo'].value_counts()\n",
    "print (conta_tipo)\n",
    "\n",
    "#etiquetas = df_vehicles['Unidade'].unique()\n",
    "#valores_etiquetas = df_vehicles['Tipo'].value_counts()"
   ]
  },
  {
   "cell_type": "code",
   "execution_count": 81,
   "id": "bbed357c-3237-45ff-961d-cfff70b3d445",
   "metadata": {},
   "outputs": [
    {
     "name": "stdout",
     "output_type": "stream",
     "text": [
      "4\n",
      "1\n"
     ]
    }
   ],
   "source": [
    "#print(len(valores_etiquetas))\n",
    "#print(len(etiquetas))"
   ]
  },
  {
   "cell_type": "code",
   "execution_count": 103,
   "id": "94b06155-fb11-4693-b8d3-c5217a26afc0",
   "metadata": {},
   "outputs": [
    {
     "data": {
      "image/png": "[encoded data removed]",
      "text/plain": [
       "<Figure size 640x480 with 1 Axes>"
      ]
     },
     "metadata": {},
     "output_type": "display_data"
    }
   ],
   "source": [
    "# gráfico de pizza\n",
    "plt.pie(conta_tipo, labels=conta_tipo.index, autopct='%1.1f%%')\n",
    "plt.title('Distribuição dos Tipos de Veículos')\n",
    "plt.show()"
   ]
  },
  {
   "cell_type": "code",
   "execution_count": 75,
   "id": "e1c5fb09-23fd-4951-a064-c525960ae0b3",
   "metadata": {},
   "outputs": [
    {
     "data": {
      "text/plain": [
       "Região\n",
       "Australia               5.788320e+05\n",
       "Austria                 8.719660e+05\n",
       "Belgium                 1.687010e+06\n",
       "Brazil                  2.649470e+05\n",
       "Bulgaria                4.623000e+03\n",
       "Canada                  2.416440e+06\n",
       "Chile                   1.445800e+04\n",
       "China                   1.148052e+09\n",
       "Colombia                1.602300e+04\n",
       "Costa Rica              2.763100e+04\n",
       "Croatia                 7.557000e+03\n",
       "Cyprus                  2.260000e+03\n",
       "Czech Republic          3.430000e+04\n",
       "Denmark                 1.102561e+06\n",
       "EU27                    3.324256e+07\n",
       "Estonia                 4.585000e+03\n",
       "Europe                  5.937754e+08\n",
       "Finland                 7.427230e+05\n",
       "France                  6.787772e+06\n",
       "Germany                 1.020111e+07\n",
       "Greece                  1.053560e+05\n",
       "Hungary                 4.203500e+04\n",
       "Iceland                 1.897660e+05\n",
       "India                   6.341878e+07\n",
       "Ireland                 8.857000e+04\n",
       "Israel                  4.821870e+05\n",
       "Italy                   1.860044e+06\n",
       "Japan                   3.603756e+06\n",
       "Korea                   2.516838e+06\n",
       "Latvia                  4.687000e+03\n",
       "Lithuania               6.673000e+03\n",
       "Luxembourg              4.210000e+04\n",
       "Mexico                  1.425910e+05\n",
       "Netherlands             3.488004e+06\n",
       "New Zealand             3.714620e+05\n",
       "Norway                  4.793634e+06\n",
       "Poland                  3.432870e+05\n",
       "Portugal                6.749960e+05\n",
       "Rest of the world       3.089968e+08\n",
       "Romania                 3.948800e+04\n",
       "Seychelles              3.380000e+02\n",
       "Slovakia                1.335100e+04\n",
       "Slovenia                1.336300e+04\n",
       "South Africa            1.653300e+04\n",
       "Spain                   1.403419e+06\n",
       "Sweden                  2.509214e+06\n",
       "Switzerland             1.165185e+06\n",
       "Turkiye                 1.983380e+05\n",
       "USA                     4.112801e+08\n",
       "United Arab Emirates    5.280400e+04\n",
       "United Kingdom          6.283637e+06\n",
       "World                   2.520120e+09\n",
       "Name: Valor, dtype: float64"
      ]
     },
     "execution_count": 75,
     "metadata": {},
     "output_type": "execute_result"
    }
   ],
   "source": [
    "\n",
    "df_vehicles['Valor'].dtype\n",
    "\n",
    "df_vehicles.groupby('Região')['Valor'].sum()\n",
    "#conta_reg = df['Região'].value_counts()\n",
    "#print (conta_reg)"
   ]
  },
  {
   "cell_type": "code",
   "execution_count": 107,
   "id": "d5dcdc38-fec1-4fda-af4f-82977cc97d94",
   "metadata": {},
   "outputs": [
    {
     "name": "stdout",
     "output_type": "stream",
     "text": [
      "               Região   Total_valor\n",
      "51              World  2.520120e+09\n",
      "7               China  1.148052e+09\n",
      "16             Europe  5.937754e+08\n",
      "48                USA  4.112801e+08\n",
      "38  Rest of the world  3.089968e+08\n",
      "23              India  6.341878e+07\n",
      "14               EU27  3.324256e+07\n",
      "19            Germany  1.020111e+07\n",
      "18             France  6.787772e+06\n",
      "50     United Kingdom  6.283637e+06\n"
     ]
    }
   ],
   "source": [
    "# número de veículos por região\n",
    "df_conta = df_vehicles.groupby('Região')['Valor'].sum().reset_index(name='Total_valor')\n",
    "\n",
    "\n",
    "df_ordena = df_conta.sort_values(by='Total_valor', ascending=False)\n",
    "\n",
    "# 10 principais regiões\n",
    "top_10 = df_ordena.head(10)\n",
    "print (top_10)"
   ]
  },
  {
   "cell_type": "code",
   "execution_count": 111,
   "id": "7eedf829-55c2-4998-80ae-599494c21e83",
   "metadata": {},
   "outputs": [
    {
     "data": {
      "image/png": "[encoded data removed]",
      "text/plain": [
       "<Figure size 640x480 with 1 Axes>"
      ]
     },
     "metadata": {},
     "output_type": "display_data"
    }
   ],
   "source": [
    "#gráfico de barras\n",
    "plt.barh(top_10['Região'], top_10['Total_valor'], color='skyblue')\n",
    "plt.xlabel('Número de Veículos')\n",
    "plt.ylabel('Região')\n",
    "plt.title('Top 10 Regiões com Maior Número de Veículos')\n",
    "plt.show()"
   ]
  }
 ],
 "metadata": {
  "kernelspec": {
   "display_name": "Python 3 (ipykernel)",
   "language": "python",
   "name": "python3"
  },
  "language_info": {
   "codemirror_mode": {
    "name": "ipython",
    "version": 3
   },
   "file_extension": ".py",
   "mimetype": "text/x-python",
   "name": "python",
   "nbconvert_exporter": "python",
   "pygments_lexer": "ipython3",
   "version": "3.12.4"
  }
 },
 "nbformat": 4,
 "nbformat_minor": 5
}

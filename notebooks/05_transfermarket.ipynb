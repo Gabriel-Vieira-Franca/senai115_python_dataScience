{
 "cells": [
  {
   "cell_type": "code",
   "execution_count": 3,
   "id": "ef94ad14-73c5-4fd3-8fe5-47d49eb8a3e3",
   "metadata": {},
   "outputs": [],
   "source": [
    "#Importar a biblioteca selenium\n",
    "from selenium import webdriver\n"
   ]
  },
  {
   "cell_type": "code",
   "execution_count": 21,
   "id": "80083d91-c3d5-45dd-8b8b-3cd5a519de64",
   "metadata": {},
   "outputs": [
    {
     "name": "stdout",
     "output_type": "stream",
     "text": [
      "1\n",
      "River Plate\n",
      "Superliga\n",
      "Mâs Monumental\n",
      "84.567 11 Primeira Divisão 14 1.183.938 12 84.567\n"
     ]
    }
   ],
   "source": [
    "\n",
    "driver = webdriver.Chrome()\n",
    "\n",
    "driver.implicitly_wait(2)\n",
    "\n",
    "driver.get('https://www.transfermarkt.com.br/verein-statistik/zuschauerrangliste/statistik/stat/plus/1?selectedOptionKey=0&wettbewerb=liga&authuser=0&hl=pt-BR')\n",
    "\n",
    "#dados_tabela = driver.find_elements(By.TAG_NAME, 'td')\n",
    "linhas_impares= driver.find_elements(By.CLASS_NAME,'odd')\n",
    "\n",
    "print(linhas_impares[0].text)"
   ]
  },
  {
   "cell_type": "code",
   "execution_count": null,
   "id": "bc88ab9b-9f13-46c3-9bd6-6521a2a7418c",
   "metadata": {},
   "outputs": [],
   "source": []
  }
 ],
 "metadata": {
  "kernelspec": {
   "display_name": "Python 3 (ipykernel)",
   "language": "python",
   "name": "python3"
  },
  "language_info": {
   "codemirror_mode": {
    "name": "ipython",
    "version": 3
   },
   "file_extension": ".py",
   "mimetype": "text/x-python",
   "name": "python",
   "nbconvert_exporter": "python",
   "pygments_lexer": "ipython3",
   "version": "3.12.4"
  }
 },
 "nbformat": 4,
 "nbformat_minor": 5
}
